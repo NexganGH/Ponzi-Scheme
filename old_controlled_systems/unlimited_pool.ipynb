{
 "cells": [
  {
   "metadata": {
    "ExecuteTime": {
     "end_time": "2025-03-09T10:09:34.425723Z",
     "start_time": "2025-03-09T10:09:34.413384Z"
    }
   },
   "cell_type": "code",
   "source": [
    "import sympy as sp\n",
    "\n",
    "# Time variable\n",
    "t = sp.symbols('t')\n",
    "\n",
    "# Define state variables as functions of time\n",
    "i = sp.Function('i')\n",
    "#p = sp.Function('p')(t)\n",
    "S = sp.Function('S')\n",
    "U = sp.Function('U')\n",
    "C = sp.Function('C')\n",
    "\n",
    "rr = sp.symbols('r_r')\n",
    "rp = sp.symbols('r_p')\n",
    "\n",
    "lambda_, mu, k, N, M, i0, S0, C0 = sp.symbols('lambda, mu, k, N, M, i0, S0, C0', real=True)"
   ],
   "id": "3d836b17d0fccb2e",
   "outputs": [],
   "execution_count": 57
  },
  {
   "metadata": {
    "ExecuteTime": {
     "end_time": "2025-03-09T10:09:35.797849Z",
     "start_time": "2025-03-09T10:09:35.794431Z"
    }
   },
   "cell_type": "code",
   "source": [
    "import numpy as np\n",
    "from scipy.optimize import root_scalar\n",
    "import matplotlib.pyplot as plt\n",
    "import pandas as pd"
   ],
   "id": "2ca4a6d0235fe173",
   "outputs": [],
   "execution_count": 58
  },
  {
   "metadata": {
    "ExecuteTime": {
     "end_time": "2025-03-09T09:45:02.052384Z",
     "start_time": "2025-03-09T09:45:01.772363Z"
    }
   },
   "cell_type": "code",
   "source": [
    "di_dt = lambda_ * k * i(t) - mu * i(t)\n",
    "dS_dt = rr * S(t) + N * M * lambda_ * k * i(t) - N * mu * i(t) * U(t)/C(t)\n",
    "dU_dt = M * lambda_ * k *  i(t) + (rp - mu)*U(t)\n",
    "dC_dt = lambda_ * k * i(t) - mu * C(t) # Define f_C as the appropriate function\n",
    "\n",
    "eq = sp.Eq(i(t).diff(t), lambda_ * k * i(t) - mu * i(t))\n",
    "i_sol = sp.dsolve(eq, i(t), ics={i(0): i0})\n",
    "\n",
    "i_sol"
   ],
   "id": "8a3a4443b893b3be",
   "outputs": [
    {
     "data": {
      "text/plain": [
       "Eq(i(t), i0*exp(t*(k*lambda - mu)))"
      ],
      "text/latex": "$\\displaystyle i{\\left(t \\right)} = i_{0} e^{t \\left(k \\lambda - \\mu\\right)}$"
     },
     "execution_count": 2,
     "metadata": {},
     "output_type": "execute_result"
    }
   ],
   "execution_count": 2
  },
  {
   "metadata": {
    "ExecuteTime": {
     "end_time": "2025-03-09T09:45:03.073245Z",
     "start_time": "2025-03-09T09:45:02.294546Z"
    }
   },
   "cell_type": "code",
   "source": [
    "C_eq = sp.Eq(C(t).diff(),  lambda_ * k * i_sol.rhs - mu * C(t))\n",
    "C_sol = sp.dsolve(C_eq, ics={C(0): 0})\n",
    "C_sol.simplify()"
   ],
   "id": "380913b92e4607da",
   "outputs": [
    {
     "data": {
      "text/plain": [
       "Eq(C(t), i0*(exp(k*lambda*t) - 1)*exp(-mu*t))"
      ],
      "text/latex": "$\\displaystyle C{\\left(t \\right)} = i_{0} \\left(e^{k \\lambda t} - 1\\right) e^{- \\mu t}$"
     },
     "execution_count": 3,
     "metadata": {},
     "output_type": "execute_result"
    }
   ],
   "execution_count": 3
  },
  {
   "metadata": {
    "ExecuteTime": {
     "end_time": "2025-03-09T09:45:04.165534Z",
     "start_time": "2025-03-09T09:45:03.084486Z"
    }
   },
   "cell_type": "code",
   "source": [
    "U_eq = sp.Eq(U(t).diff(), M * lambda_ * k *  i_sol.rhs + (rp - mu)*U(t))\n",
    "U_sol = sp.dsolve(U_eq, ics={U(0): 0})\n",
    "U_sol.simplify()"
   ],
   "id": "f9b54143c4890bd4",
   "outputs": [
    {
     "data": {
      "text/plain": [
       "Eq(U(t), M*i0*k*lambda*(exp(t*(k*lambda - r_p)) - 1)*exp(-t*(mu - r_p))/(k*lambda - r_p))"
      ],
      "text/latex": "$\\displaystyle U{\\left(t \\right)} = \\frac{M i_{0} k \\lambda \\left(e^{t \\left(k \\lambda - r_{p}\\right)} - 1\\right) e^{- t \\left(\\mu - r_{p}\\right)}}{k \\lambda - r_{p}}$"
     },
     "execution_count": 4,
     "metadata": {},
     "output_type": "execute_result"
    }
   ],
   "execution_count": 4
  },
  {
   "metadata": {
    "ExecuteTime": {
     "end_time": "2025-03-09T11:32:12.909193Z",
     "start_time": "2025-03-09T11:32:12.157066Z"
    }
   },
   "cell_type": "code",
   "source": "print(sp.latex(C_sol.simplify()))",
   "id": "399fc1817ef48a57",
   "outputs": [
    {
     "name": "stdout",
     "output_type": "stream",
     "text": [
      "C{\\left(t \\right)} = i_{0} \\left(e^{k \\lambda t} - 1\\right) e^{- \\mu t}\n"
     ]
    }
   ],
   "execution_count": 84
  },
  {
   "metadata": {
    "ExecuteTime": {
     "end_time": "2025-03-09T09:45:04.252947Z",
     "start_time": "2025-03-09T09:45:04.177470Z"
    }
   },
   "cell_type": "code",
   "source": [
    "div = U_sol.rhs / C_sol.rhs\n",
    "\n",
    "div.simplify()"
   ],
   "id": "d7b27d4ae8fbc97",
   "outputs": [
    {
     "data": {
      "text/plain": [
       "M*k*lambda*(1 - exp(t*(k*lambda - r_p)))*exp(r_p*t)/((1 - exp(k*lambda*t))*(k*lambda - r_p))"
      ],
      "text/latex": "$\\displaystyle \\frac{M k \\lambda \\left(1 - e^{t \\left(k \\lambda - r_{p}\\right)}\\right) e^{r_{p} t}}{\\left(1 - e^{k \\lambda t}\\right) \\left(k \\lambda - r_{p}\\right)}$"
     },
     "execution_count": 5,
     "metadata": {},
     "output_type": "execute_result"
    }
   ],
   "execution_count": 5
  },
  {
   "metadata": {
    "ExecuteTime": {
     "end_time": "2025-03-09T11:38:41.995811Z",
     "start_time": "2025-03-09T11:38:41.986659Z"
    }
   },
   "cell_type": "code",
   "source": [
    "S_eq = sp.Eq(0, rr * S(t) + N * M * lambda_ * k * i_sol.rhs - N * mu * i_sol.rhs * U_sol.rhs/C_sol.rhs)\n",
    "\n",
    "print(sp.latex(S_eq))"
   ],
   "id": "c0063156eec86794",
   "outputs": [
    {
     "name": "stdout",
     "output_type": "stream",
     "text": [
      "0 = M N i_{0} k \\lambda e^{t \\left(k \\lambda - \\mu\\right)} - \\frac{N i_{0} \\mu \\left(- \\frac{M i_{0} k \\lambda e^{t \\left(- \\mu + r_{p}\\right)}}{k \\lambda - r_{p}} + \\frac{M i_{0} k \\lambda e^{t \\left(k \\lambda - \\mu\\right)}}{k \\lambda - r_{p}}\\right) e^{\\mu t} e^{t \\left(k \\lambda - \\mu\\right)}}{i_{0} e^{k \\lambda t} - i_{0}} + r_{r} S{\\left(t \\right)}\n"
     ]
    }
   ],
   "execution_count": 108
  },
  {
   "metadata": {
    "ExecuteTime": {
     "end_time": "2025-03-09T11:41:05.077576Z",
     "start_time": "2025-03-09T11:41:05.053141Z"
    }
   },
   "cell_type": "code",
   "source": "print(sp.latex(S_eq.rhs.args[1].simplify()))",
   "id": "75c2f1fd00582180",
   "outputs": [
    {
     "name": "stdout",
     "output_type": "stream",
     "text": [
      "M N i_{0} k \\lambda e^{t \\left(k \\lambda - \\mu\\right)}\n"
     ]
    }
   ],
   "execution_count": 112
  },
  {
   "metadata": {
    "ExecuteTime": {
     "end_time": "2025-03-09T11:40:17.980804Z",
     "start_time": "2025-03-09T11:40:17.924773Z"
    }
   },
   "cell_type": "code",
   "source": "S_eq.rhs.args[2].simplify()",
   "id": "b057abcedb25cfe6",
   "outputs": [
    {
     "data": {
      "text/plain": [
       "-M*N*i0*k*lambda*mu*(exp(t*(k*lambda - r_p)) - 1)*exp(t*(k*lambda - mu + r_p))/((k*lambda - r_p)*(exp(k*lambda*t) - 1))"
      ],
      "text/latex": "$\\displaystyle - \\frac{M N i_{0} k \\lambda \\mu \\left(e^{t \\left(k \\lambda - r_{p}\\right)} - 1\\right) e^{t \\left(k \\lambda - \\mu + r_{p}\\right)}}{\\left(k \\lambda - r_{p}\\right) \\left(e^{k \\lambda t} - 1\\right)}$"
     },
     "execution_count": 110,
     "metadata": {},
     "output_type": "execute_result"
    }
   ],
   "execution_count": 110
  },
  {
   "metadata": {
    "ExecuteTime": {
     "end_time": "2025-03-09T11:38:31.738922Z",
     "start_time": "2025-03-09T11:38:31.732374Z"
    }
   },
   "cell_type": "code",
   "source": "S_eq.rhs.args[0]",
   "id": "82f31b1388da0cae",
   "outputs": [
    {
     "data": {
      "text/plain": [
       "r_r*S(t)"
      ],
      "text/latex": "$\\displaystyle r_{r} S{\\left(t \\right)}$"
     },
     "execution_count": 107,
     "metadata": {},
     "output_type": "execute_result"
    }
   ],
   "execution_count": 107
  },
  {
   "metadata": {
    "ExecuteTime": {
     "end_time": "2025-03-09T11:43:24.587772Z",
     "start_time": "2025-03-09T11:43:24.103893Z"
    }
   },
   "cell_type": "code",
   "source": [
    "S_eq = S_eq.subs({rr: 0})\n",
    "\n",
    "sp.solve(S_eq, t)"
   ],
   "id": "b03aa899e177ecde",
   "outputs": [
    {
     "ename": "NotImplementedError",
     "evalue": "multiple generators [exp(-mu*t), exp(k*lambda*t), exp(r_p*t)]\nNo algorithms are implemented to solve equation (-M*N*i0*k*lambda*exp(t*(k*lambda - mu)) + N*i0*mu*(-M*i0*k*lambda*exp(t*(-mu + r_p))/(k*lambda - r_p) + M*i0*k*lambda*exp(t*(k*lambda - mu))/(k*lambda - r_p))*exp(mu*t)*exp(t*(k*lambda - mu))/(i0*exp(k*lambda*t) - i0)) + 0",
     "output_type": "error",
     "traceback": [
      "\u001B[1;31m---------------------------------------------------------------------------\u001B[0m",
      "\u001B[1;31mNotImplementedError\u001B[0m                       Traceback (most recent call last)",
      "Cell \u001B[1;32mIn[118], line 3\u001B[0m\n\u001B[0;32m      1\u001B[0m S_eq \u001B[38;5;241m=\u001B[39m S_eq\u001B[38;5;241m.\u001B[39msubs({rr: \u001B[38;5;241m0\u001B[39m})\n\u001B[1;32m----> 3\u001B[0m \u001B[43msp\u001B[49m\u001B[38;5;241;43m.\u001B[39;49m\u001B[43msolve\u001B[49m\u001B[43m(\u001B[49m\u001B[43mS_eq\u001B[49m\u001B[43m,\u001B[49m\u001B[43m \u001B[49m\u001B[43mt\u001B[49m\u001B[43m)\u001B[49m\n",
      "File \u001B[1;32m~\\AppData\\Local\\Programs\\Python\\Python313\\Lib\\site-packages\\sympy\\solvers\\solvers.py:1170\u001B[0m, in \u001B[0;36msolve\u001B[1;34m(f, *symbols, **flags)\u001B[0m\n\u001B[0;32m   1168\u001B[0m         solution \u001B[38;5;241m=\u001B[39m _solve_undetermined(f[\u001B[38;5;241m0\u001B[39m], symbols, flags)\n\u001B[0;32m   1169\u001B[0m     \u001B[38;5;28;01mif\u001B[39;00m \u001B[38;5;129;01mnot\u001B[39;00m solution:\n\u001B[1;32m-> 1170\u001B[0m         solution \u001B[38;5;241m=\u001B[39m \u001B[43m_solve\u001B[49m\u001B[43m(\u001B[49m\u001B[43mf\u001B[49m\u001B[43m[\u001B[49m\u001B[38;5;241;43m0\u001B[39;49m\u001B[43m]\u001B[49m\u001B[43m,\u001B[49m\u001B[43m \u001B[49m\u001B[38;5;241;43m*\u001B[39;49m\u001B[43msymbols\u001B[49m\u001B[43m,\u001B[49m\u001B[43m \u001B[49m\u001B[38;5;241;43m*\u001B[39;49m\u001B[38;5;241;43m*\u001B[39;49m\u001B[43mflags\u001B[49m\u001B[43m)\u001B[49m\n\u001B[0;32m   1171\u001B[0m \u001B[38;5;28;01melse\u001B[39;00m:\n\u001B[0;32m   1172\u001B[0m     linear, solution \u001B[38;5;241m=\u001B[39m _solve_system(f, symbols, \u001B[38;5;241m*\u001B[39m\u001B[38;5;241m*\u001B[39mflags)\n",
      "File \u001B[1;32m~\\AppData\\Local\\Programs\\Python\\Python313\\Lib\\site-packages\\sympy\\solvers\\solvers.py:1729\u001B[0m, in \u001B[0;36m_solve\u001B[1;34m(f, *symbols, **flags)\u001B[0m\n\u001B[0;32m   1726\u001B[0m \u001B[38;5;66;03m# ----------- end of fallback ----------------------------\u001B[39;00m\n\u001B[0;32m   1728\u001B[0m \u001B[38;5;28;01mif\u001B[39;00m result \u001B[38;5;129;01mis\u001B[39;00m \u001B[38;5;28;01mFalse\u001B[39;00m:\n\u001B[1;32m-> 1729\u001B[0m     \u001B[38;5;28;01mraise\u001B[39;00m \u001B[38;5;167;01mNotImplementedError\u001B[39;00m(\u001B[38;5;124m'\u001B[39m\u001B[38;5;130;01m\\n\u001B[39;00m\u001B[38;5;124m'\u001B[39m\u001B[38;5;241m.\u001B[39mjoin([msg, not_impl_msg \u001B[38;5;241m%\u001B[39m f]))\n\u001B[0;32m   1731\u001B[0m result \u001B[38;5;241m=\u001B[39m _remove_duplicate_solutions(result)\n\u001B[0;32m   1733\u001B[0m \u001B[38;5;28;01mif\u001B[39;00m flags\u001B[38;5;241m.\u001B[39mget(\u001B[38;5;124m'\u001B[39m\u001B[38;5;124msimplify\u001B[39m\u001B[38;5;124m'\u001B[39m, \u001B[38;5;28;01mTrue\u001B[39;00m):\n",
      "\u001B[1;31mNotImplementedError\u001B[0m: multiple generators [exp(-mu*t), exp(k*lambda*t), exp(r_p*t)]\nNo algorithms are implemented to solve equation (-M*N*i0*k*lambda*exp(t*(k*lambda - mu)) + N*i0*mu*(-M*i0*k*lambda*exp(t*(-mu + r_p))/(k*lambda - r_p) + M*i0*k*lambda*exp(t*(k*lambda - mu))/(k*lambda - r_p))*exp(mu*t)*exp(t*(k*lambda - mu))/(i0*exp(k*lambda*t) - i0)) + 0"
     ]
    }
   ],
   "execution_count": 118
  },
  {
   "metadata": {
    "ExecuteTime": {
     "end_time": "2025-03-09T11:43:26.273949Z",
     "start_time": "2025-03-09T11:43:25.753767Z"
    }
   },
   "cell_type": "code",
   "source": "print(sp.latex(S_eq.expand().simplify()))",
   "id": "f180984ce2045f80",
   "outputs": [
    {
     "name": "stdout",
     "output_type": "stream",
     "text": [
      "\\frac{M N i_{0} k \\lambda \\left(k \\lambda e^{k \\lambda t} - k \\lambda + \\mu e^{r_{p} t} - \\mu e^{k \\lambda t} - r_{p} e^{k \\lambda t} + r_{p}\\right) e^{t \\left(k \\lambda - \\mu\\right)}}{k \\lambda e^{k \\lambda t} - k \\lambda - r_{p} e^{k \\lambda t} + r_{p}} = 0\n"
     ]
    }
   ],
   "execution_count": 119
  },
  {
   "metadata": {
    "ExecuteTime": {
     "end_time": "2025-03-09T10:09:39.619395Z",
     "start_time": "2025-03-09T10:09:39.608956Z"
    }
   },
   "cell_type": "code",
   "source": [
    "dS_dt = k * lambda_ * sp.exp(k * lambda_ * t) - k * lambda_ + mu * sp.exp(rp * t) - (mu + rp) * sp.exp(k * lambda_ * t) + rp\n",
    "\n",
    "dS_dt"
   ],
   "id": "4c38739ad992bfdc",
   "outputs": [
    {
     "data": {
      "text/plain": [
       "k*lambda*exp(k*lambda*t) - k*lambda + mu*exp(r_p*t) + r_p - (mu + r_p)*exp(k*lambda*t)"
      ],
      "text/latex": "$\\displaystyle k \\lambda e^{k \\lambda t} - k \\lambda + \\mu e^{r_{p} t} + r_{p} - \\left(\\mu + r_{p}\\right) e^{k \\lambda t}$"
     },
     "execution_count": 59,
     "metadata": {},
     "output_type": "execute_result"
    }
   ],
   "execution_count": 59
  },
  {
   "metadata": {
    "ExecuteTime": {
     "end_time": "2025-03-09T10:07:01.778827Z",
     "start_time": "2025-03-09T10:07:01.756180Z"
    }
   },
   "cell_type": "code",
   "source": [
    "dS_dt_func = sp.lambdify((t, k, lambda_, mu, rp), dS_dt, 'numpy')\n",
    "dS_dt_func(0.5, 0.1, 0.2, 0.1, 0.1)"
   ],
   "id": "5db22255e3afd269",
   "outputs": [
    {
     "data": {
      "text/plain": [
       "np.float64(0.0033180795624521697)"
      ]
     },
     "execution_count": 51,
     "metadata": {},
     "output_type": "execute_result"
    }
   ],
   "execution_count": 51
  },
  {
   "metadata": {
    "ExecuteTime": {
     "end_time": "2025-03-09T10:18:39.835206Z",
     "start_time": "2025-03-09T10:18:39.446922Z"
    }
   },
   "cell_type": "code",
   "source": [
    "fixed_params = {k: 6, mu: 0.1}  # Cambia con i tuoi valori\n",
    "\n",
    "# Convertire in funzione numerica, mantenendo k e mu fissi\n",
    "dS_dt_func = sp.lambdify((t, lambda_, rp), dS_dt.subs(fixed_params), 'math')\n",
    "\n",
    "# Funzione per trovare t numericamente\n",
    "def find_t(lambda_val, rp_val):\n",
    "    try:\n",
    "        sol = root_scalar(lambda t: dS_dt_func(t, lambda_val, rp_val), bracket=[0.01, 30], method='brentq')\n",
    "        return sol.root if sol.converged else None\n",
    "    except ValueError:\n",
    "        return None  # Se non trova una soluzione, restituisce None\n",
    "\n",
    "# Creazione della tabella variando lambda e rp\n",
    "lambda_vals = np.linspace(0.01, 0.1, 3)\n",
    "rp_vals = np.linspace(0.1, 0.5, 3)\n",
    "\n",
    "results = []\n",
    "for lam in lambda_vals:\n",
    "    for x in rp_vals:\n",
    "        t_sol = find_t(lam, x)\n",
    "        if t_sol is not None:\n",
    "            results.append((lam, x, t_sol))\n",
    "\n",
    "df = pd.DataFrame(results, columns=['lambda', 'rp', 't_solution'])\n",
    "print(df)\n",
    "\n",
    "# Grafico della soluzione in funzione di lambda e rp\n",
    "fig = plt.figure(figsize=(8,6))\n",
    "ax = fig.add_subplot(111, projection='3d')\n",
    "ax.scatter(df['lambda'], df['rp'], df['t_solution'], c=df['t_solution'], cmap='viridis')\n",
    "ax.set_xlabel('lambda')\n",
    "ax.set_ylabel('rp')\n",
    "ax.set_zlabel('t_solution')\n",
    "plt.show()"
   ],
   "id": "b261ad68f03654c4",
   "outputs": [
    {
     "name": "stdout",
     "output_type": "stream",
     "text": [
      "   lambda   rp  t_solution\n",
      "0   0.055  0.3   11.577558\n",
      "1   0.055  0.5    5.114457\n"
     ]
    },
    {
     "data": {
      "text/plain": [
       "<Figure size 800x600 with 1 Axes>"
      ],
      "image/png": "[encoded data removed]"
     },
     "metadata": {},
     "output_type": "display_data"
    }
   ],
   "execution_count": 79
  },
  {
   "metadata": {
    "ExecuteTime": {
     "end_time": "2025-03-09T10:17:39.660135Z",
     "start_time": "2025-03-09T10:17:39.395464Z"
    }
   },
   "cell_type": "code",
   "source": [
    "t_vals = np.linspace(0, 30, 400)  # Cambia l'intervallo se necessario\n",
    "lambda_val = 0.05\n",
    "rp_val = 0.25\n",
    "dS_dt_fixed = dS_dt.subs({lambda_: lambda_val, rp: rp_val, **fixed_params})\n",
    "\n",
    "# Convertire in funzione numerica\n",
    "dS_dt_func = sp.lambdify(t, dS_dt_fixed, 'numpy')\n",
    "# **Tracciare il grafico**\n",
    "plt.figure(figsize=(8, 5))\n",
    "\n",
    "t_vals = np.linspace(0, 30, 400)  # Cambia l'intervallo se necessario\n",
    "dS_vals = dS_dt_func(t_vals)\n",
    "plt.plot(t_vals, dS_vals, label=f\"λ={lambda_val}, rp={rp_val}\")\n",
    "plt.axhline(0, color='black', linestyle='--', linewidth=1)  # Linea y=0\n",
    "plt.xlabel(\"t\")\n",
    "plt.ylabel(\"dS/dt\")\n",
    "plt.title(\"Andamento di dS/dt rispetto a t\")\n",
    "plt.legend()\n",
    "plt.grid()\n",
    "plt.show()"
   ],
   "id": "3eeaf0c68690af02",
   "outputs": [
    {
     "data": {
      "text/plain": [
       "<Figure size 800x500 with 1 Axes>"
      ],
      "image/png": "[encoded data removed]"
     },
     "metadata": {},
     "output_type": "display_data"
    }
   ],
   "execution_count": 77
  },
  {
   "metadata": {
    "ExecuteTime": {
     "end_time": "2025-03-09T10:16:54.296842Z",
     "start_time": "2025-03-09T10:16:54.269560Z"
    }
   },
   "cell_type": "code",
   "source": "dS_dt_fixed",
   "id": "723081e390777e1e",
   "outputs": [
    {
     "ename": "NameError",
     "evalue": "name 'dS_dt_fixed' is not defined",
     "output_type": "error",
     "traceback": [
      "\u001B[1;31m---------------------------------------------------------------------------\u001B[0m",
      "\u001B[1;31mNameError\u001B[0m                                 Traceback (most recent call last)",
      "Cell \u001B[1;32mIn[73], line 1\u001B[0m\n\u001B[1;32m----> 1\u001B[0m \u001B[43mdS_dt_fixed\u001B[49m\n",
      "\u001B[1;31mNameError\u001B[0m: name 'dS_dt_fixed' is not defined"
     ]
    }
   ],
   "execution_count": 73
  },
  {
   "metadata": {
    "ExecuteTime": {
     "end_time": "2025-03-09T10:13:04.723995Z",
     "start_time": "2025-03-09T10:13:04.261269Z"
    }
   },
   "cell_type": "code",
   "source": "df",
   "id": "95e245258af58b4f",
   "outputs": [
    {
     "data": {
      "text/plain": [
       "    lambda        rp  t_solution\n",
       "0     0.02  0.100000    3.816017\n",
       "1     0.02  0.144444    2.577302\n",
       "2     0.02  0.188889    1.946593\n",
       "3     0.02  0.233333    1.564115\n",
       "4     0.02  0.277778    1.307338\n",
       "5     0.02  0.322222    1.123015\n",
       "6     0.02  0.366667    0.984262\n",
       "7     0.02  0.411111    0.876034\n",
       "8     0.02  0.455556    0.789254\n",
       "9     0.02  0.500000    0.718120\n",
       "10    0.03  0.144444    9.829227\n",
       "11    0.03  0.188889    6.892535\n",
       "12    0.03  0.233333    5.336272\n",
       "13    0.03  0.277778    4.361549\n",
       "14    0.03  0.322222    3.690965\n",
       "15    0.03  0.366667    3.200451\n",
       "16    0.03  0.411111    2.825687\n",
       "17    0.03  0.455556    2.529854\n",
       "18    0.03  0.500000    2.290306\n",
       "19    0.04  0.233333    9.166333\n",
       "20    0.04  0.277778    7.142446\n",
       "21    0.04  0.322222    5.880427\n",
       "22    0.04  0.366667    5.008652\n",
       "23    0.04  0.411111    4.367037\n",
       "24    0.04  0.455556    3.873698\n",
       "25    0.04  0.500000    3.481920\n",
       "26    0.05  0.322222    8.358679\n",
       "27    0.05  0.366667    6.880915\n",
       "28    0.05  0.411111    5.872172\n",
       "29    0.05  0.455556    5.132631\n",
       "30    0.05  0.500000    4.564263\n",
       "31    0.06  0.366667    9.357622\n",
       "32    0.06  0.411111    7.651704\n",
       "33    0.06  0.455556    6.517348\n",
       "34    0.06  0.500000    5.696086\n",
       "35    0.07  0.455556    8.332182\n",
       "36    0.07  0.500000    7.057276\n",
       "37    0.08  0.500000    9.005411"
      ],
      "text/html": [
       "<div>\n",
       "<style scoped>\n",
       "    .dataframe tbody tr th:only-of-type {\n",
       "        vertical-align: middle;\n",
       "    }\n",
       "\n",
       "    .dataframe tbody tr th {\n",
       "        vertical-align: top;\n",
       "    }\n",
       "\n",
       "    .dataframe thead th {\n",
       "        text-align: right;\n",
       "    }\n",
       "</style>\n",
       "<table border=\"1\" class=\"dataframe\">\n",
       "  <thead>\n",
       "    <tr style=\"text-align: right;\">\n",
       "      <th></th>\n",
       "      <th>lambda</th>\n",
       "      <th>rp</th>\n",
       "      <th>t_solution</th>\n",
       "    </tr>\n",
       "  </thead>\n",
       "  <tbody>\n",
       "    <tr>\n",
       "      <th>0</th>\n",
       "      <td>0.02</td>\n",
       "      <td>0.100000</td>\n",
       "      <td>3.816017</td>\n",
       "    </tr>\n",
       "    <tr>\n",
       "      <th>1</th>\n",
       "      <td>0.02</td>\n",
       "      <td>0.144444</td>\n",
       "      <td>2.577302</td>\n",
       "    </tr>\n",
       "    <tr>\n",
       "      <th>2</th>\n",
       "      <td>0.02</td>\n",
       "      <td>0.188889</td>\n",
       "      <td>1.946593</td>\n",
       "    </tr>\n",
       "    <tr>\n",
       "      <th>3</th>\n",
       "      <td>0.02</td>\n",
       "      <td>0.233333</td>\n",
       "      <td>1.564115</td>\n",
       "    </tr>\n",
       "    <tr>\n",
       "      <th>4</th>\n",
       "      <td>0.02</td>\n",
       "      <td>0.277778</td>\n",
       "      <td>1.307338</td>\n",
       "    </tr>\n",
       "    <tr>\n",
       "      <th>5</th>\n",
       "      <td>0.02</td>\n",
       "      <td>0.322222</td>\n",
       "      <td>1.123015</td>\n",
       "    </tr>\n",
       "    <tr>\n",
       "      <th>6</th>\n",
       "      <td>0.02</td>\n",
       "      <td>0.366667</td>\n",
       "      <td>0.984262</td>\n",
       "    </tr>\n",
       "    <tr>\n",
       "      <th>7</th>\n",
       "      <td>0.02</td>\n",
       "      <td>0.411111</td>\n",
       "      <td>0.876034</td>\n",
       "    </tr>\n",
       "    <tr>\n",
       "      <th>8</th>\n",
       "      <td>0.02</td>\n",
       "      <td>0.455556</td>\n",
       "      <td>0.789254</td>\n",
       "    </tr>\n",
       "    <tr>\n",
       "      <th>9</th>\n",
       "      <td>0.02</td>\n",
       "      <td>0.500000</td>\n",
       "      <td>0.718120</td>\n",
       "    </tr>\n",
       "    <tr>\n",
       "      <th>10</th>\n",
       "      <td>0.03</td>\n",
       "      <td>0.144444</td>\n",
       "      <td>9.829227</td>\n",
       "    </tr>\n",
       "    <tr>\n",
       "      <th>11</th>\n",
       "      <td>0.03</td>\n",
       "      <td>0.188889</td>\n",
       "      <td>6.892535</td>\n",
       "    </tr>\n",
       "    <tr>\n",
       "      <th>12</th>\n",
       "      <td>0.03</td>\n",
       "      <td>0.233333</td>\n",
       "      <td>5.336272</td>\n",
       "    </tr>\n",
       "    <tr>\n",
       "      <th>13</th>\n",
       "      <td>0.03</td>\n",
       "      <td>0.277778</td>\n",
       "      <td>4.361549</td>\n",
       "    </tr>\n",
       "    <tr>\n",
       "      <th>14</th>\n",
       "      <td>0.03</td>\n",
       "      <td>0.322222</td>\n",
       "      <td>3.690965</td>\n",
       "    </tr>\n",
       "    <tr>\n",
       "      <th>15</th>\n",
       "      <td>0.03</td>\n",
       "      <td>0.366667</td>\n",
       "      <td>3.200451</td>\n",
       "    </tr>\n",
       "    <tr>\n",
       "      <th>16</th>\n",
       "      <td>0.03</td>\n",
       "      <td>0.411111</td>\n",
       "      <td>2.825687</td>\n",
       "    </tr>\n",
       "    <tr>\n",
       "      <th>17</th>\n",
       "      <td>0.03</td>\n",
       "      <td>0.455556</td>\n",
       "      <td>2.529854</td>\n",
       "    </tr>\n",
       "    <tr>\n",
       "      <th>18</th>\n",
       "      <td>0.03</td>\n",
       "      <td>0.500000</td>\n",
       "      <td>2.290306</td>\n",
       "    </tr>\n",
       "    <tr>\n",
       "      <th>19</th>\n",
       "      <td>0.04</td>\n",
       "      <td>0.233333</td>\n",
       "      <td>9.166333</td>\n",
       "    </tr>\n",
       "    <tr>\n",
       "      <th>20</th>\n",
       "      <td>0.04</td>\n",
       "      <td>0.277778</td>\n",
       "      <td>7.142446</td>\n",
       "    </tr>\n",
       "    <tr>\n",
       "      <th>21</th>\n",
       "      <td>0.04</td>\n",
       "      <td>0.322222</td>\n",
       "      <td>5.880427</td>\n",
       "    </tr>\n",
       "    <tr>\n",
       "      <th>22</th>\n",
       "      <td>0.04</td>\n",
       "      <td>0.366667</td>\n",
       "      <td>5.008652</td>\n",
       "    </tr>\n",
       "    <tr>\n",
       "      <th>23</th>\n",
       "      <td>0.04</td>\n",
       "      <td>0.411111</td>\n",
       "      <td>4.367037</td>\n",
       "    </tr>\n",
       "    <tr>\n",
       "      <th>24</th>\n",
       "      <td>0.04</td>\n",
       "      <td>0.455556</td>\n",
       "      <td>3.873698</td>\n",
       "    </tr>\n",
       "    <tr>\n",
       "      <th>25</th>\n",
       "      <td>0.04</td>\n",
       "      <td>0.500000</td>\n",
       "      <td>3.481920</td>\n",
       "    </tr>\n",
       "    <tr>\n",
       "      <th>26</th>\n",
       "      <td>0.05</td>\n",
       "      <td>0.322222</td>\n",
       "      <td>8.358679</td>\n",
       "    </tr>\n",
       "    <tr>\n",
       "      <th>27</th>\n",
       "      <td>0.05</td>\n",
       "      <td>0.366667</td>\n",
       "      <td>6.880915</td>\n",
       "    </tr>\n",
       "    <tr>\n",
       "      <th>28</th>\n",
       "      <td>0.05</td>\n",
       "      <td>0.411111</td>\n",
       "      <td>5.872172</td>\n",
       "    </tr>\n",
       "    <tr>\n",
       "      <th>29</th>\n",
       "      <td>0.05</td>\n",
       "      <td>0.455556</td>\n",
       "      <td>5.132631</td>\n",
       "    </tr>\n",
       "    <tr>\n",
       "      <th>30</th>\n",
       "      <td>0.05</td>\n",
       "      <td>0.500000</td>\n",
       "      <td>4.564263</td>\n",
       "    </tr>\n",
       "    <tr>\n",
       "      <th>31</th>\n",
       "      <td>0.06</td>\n",
       "      <td>0.366667</td>\n",
       "      <td>9.357622</td>\n",
       "    </tr>\n",
       "    <tr>\n",
       "      <th>32</th>\n",
       "      <td>0.06</td>\n",
       "      <td>0.411111</td>\n",
       "      <td>7.651704</td>\n",
       "    </tr>\n",
       "    <tr>\n",
       "      <th>33</th>\n",
       "      <td>0.06</td>\n",
       "      <td>0.455556</td>\n",
       "      <td>6.517348</td>\n",
       "    </tr>\n",
       "    <tr>\n",
       "      <th>34</th>\n",
       "      <td>0.06</td>\n",
       "      <td>0.500000</td>\n",
       "      <td>5.696086</td>\n",
       "    </tr>\n",
       "    <tr>\n",
       "      <th>35</th>\n",
       "      <td>0.07</td>\n",
       "      <td>0.455556</td>\n",
       "      <td>8.332182</td>\n",
       "    </tr>\n",
       "    <tr>\n",
       "      <th>36</th>\n",
       "      <td>0.07</td>\n",
       "      <td>0.500000</td>\n",
       "      <td>7.057276</td>\n",
       "    </tr>\n",
       "    <tr>\n",
       "      <th>37</th>\n",
       "      <td>0.08</td>\n",
       "      <td>0.500000</td>\n",
       "      <td>9.005411</td>\n",
       "    </tr>\n",
       "  </tbody>\n",
       "</table>\n",
       "</div>"
      ]
     },
     "execution_count": 64,
     "metadata": {},
     "output_type": "execute_result"
    }
   ],
   "execution_count": 64
  },
  {
   "metadata": {
    "ExecuteTime": {
     "end_time": "2025-03-09T09:48:44.981616Z",
     "start_time": "2025-03-09T09:48:44.973580Z"
    }
   },
   "cell_type": "code",
   "source": "S_eq",
   "id": "8f4e05aeceae5190",
   "outputs": [
    {
     "data": {
      "text/plain": [
       "Eq(0, M*N*i0*k*lambda*exp(t*(k*lambda - mu)) - N*i0*mu*(-M*i0*k*lambda*exp(t*(-mu + r_p))/(k*lambda - r_p) + M*i0*k*lambda*exp(t*(k*lambda - mu))/(k*lambda - r_p))*exp(mu*t)*exp(t*(k*lambda - mu))/(i0*exp(k*lambda*t) - i0))"
      ],
      "text/latex": "$\\displaystyle 0 = M N i_{0} k \\lambda e^{t \\left(k \\lambda - \\mu\\right)} - \\frac{N i_{0} \\mu \\left(- \\frac{M i_{0} k \\lambda e^{t \\left(- \\mu + r_{p}\\right)}}{k \\lambda - r_{p}} + \\frac{M i_{0} k \\lambda e^{t \\left(k \\lambda - \\mu\\right)}}{k \\lambda - r_{p}}\\right) e^{\\mu t} e^{t \\left(k \\lambda - \\mu\\right)}}{i_{0} e^{k \\lambda t} - i_{0}}$"
     },
     "execution_count": 16,
     "metadata": {},
     "output_type": "execute_result"
    }
   ],
   "execution_count": 16
  },
  {
   "metadata": {
    "ExecuteTime": {
     "end_time": "2025-03-09T09:48:19.958135Z",
     "start_time": "2025-03-09T09:48:19.948287Z"
    }
   },
   "cell_type": "code",
   "source": "S_eq",
   "id": "fc1a58075f04cbb5",
   "outputs": [
    {
     "data": {
      "text/plain": [
       "Eq(Derivative(S(t), t), M*N*i0*k*lambda*exp(t*(k*lambda - mu)) - N*i0*mu*(-M*i0*k*lambda*exp(t*(-mu + r_p))/(k*lambda - r_p) + M*i0*k*lambda*exp(t*(k*lambda - mu))/(k*lambda - r_p))*exp(mu*t)*exp(t*(k*lambda - mu))/(i0*exp(k*lambda*t) - i0))"
      ],
      "text/latex": "$\\displaystyle \\frac{d}{d t} S{\\left(t \\right)} = M N i_{0} k \\lambda e^{t \\left(k \\lambda - \\mu\\right)} - \\frac{N i_{0} \\mu \\left(- \\frac{M i_{0} k \\lambda e^{t \\left(- \\mu + r_{p}\\right)}}{k \\lambda - r_{p}} + \\frac{M i_{0} k \\lambda e^{t \\left(k \\lambda - \\mu\\right)}}{k \\lambda - r_{p}}\\right) e^{\\mu t} e^{t \\left(k \\lambda - \\mu\\right)}}{i_{0} e^{k \\lambda t} - i_{0}}$"
     },
     "execution_count": 13,
     "metadata": {},
     "output_type": "execute_result"
    }
   ],
   "execution_count": 13
  },
  {
   "metadata": {
    "ExecuteTime": {
     "end_time": "2025-03-09T09:45:53.794692Z",
     "start_time": "2025-03-09T09:45:15.928637Z"
    }
   },
   "cell_type": "code",
   "source": [
    "sp.dsolve(S_eq)\n",
    "#S_sol = sp.dsolve(S_eq, ics={S(0): S0})\n",
    "#S_sol.simplify()"
   ],
   "id": "3e693b2e686ea851",
   "outputs": [
    {
     "data": {
      "text/plain": [
       "Eq((-M*N*i0*k**2*lambda**2*Integral(exp(-mu*t)*exp(-r_r*t)*exp(k*lambda*t)/(exp(k*lambda*t) - 1), t) + M*N*i0*k**2*lambda**2*Integral(exp(-mu*t)*exp(-r_r*t)*exp(2*k*lambda*t)/(exp(k*lambda*t) - 1), t) - M*N*i0*k*lambda*mu*Integral(exp(-mu*t)*exp(-r_r*t)*exp(2*k*lambda*t)/(exp(k*lambda*t) - 1), t) + M*N*i0*k*lambda*mu*Integral(exp(-mu*t)*exp(r_p*t)*exp(-r_r*t)*exp(k*lambda*t)/(exp(k*lambda*t) - 1), t) + M*N*i0*k*lambda*r_p*Integral(exp(-mu*t)*exp(-r_r*t)*exp(k*lambda*t)/(exp(k*lambda*t) - 1), t) - M*N*i0*k*lambda*r_p*Integral(exp(-mu*t)*exp(-r_r*t)*exp(2*k*lambda*t)/(exp(k*lambda*t) - 1), t) - k*lambda*r_r*Integral(S(t)*exp(-r_r*t)/(exp(k*lambda*t) - 1), t) + k*lambda*r_r*Integral(S(t)*exp(-r_r*t)*exp(k*lambda*t)/(exp(k*lambda*t) - 1), t) + r_p*r_r*Integral(S(t)*exp(-r_r*t)/(exp(k*lambda*t) - 1), t) - r_p*r_r*Integral(S(t)*exp(-r_r*t)*exp(k*lambda*t)/(exp(k*lambda*t) - 1), t))/(k*lambda - r_p), C1)"
      ],
      "text/latex": "$\\displaystyle \\frac{- M N i_{0} k^{2} \\lambda^{2} \\int \\frac{e^{- \\mu t} e^{- r_{r} t} e^{k \\lambda t}}{e^{k \\lambda t} - 1}\\, dt + M N i_{0} k^{2} \\lambda^{2} \\int \\frac{e^{- \\mu t} e^{- r_{r} t} e^{2 k \\lambda t}}{e^{k \\lambda t} - 1}\\, dt - M N i_{0} k \\lambda \\mu \\int \\frac{e^{- \\mu t} e^{- r_{r} t} e^{2 k \\lambda t}}{e^{k \\lambda t} - 1}\\, dt + M N i_{0} k \\lambda \\mu \\int \\frac{e^{- \\mu t} e^{r_{p} t} e^{- r_{r} t} e^{k \\lambda t}}{e^{k \\lambda t} - 1}\\, dt + M N i_{0} k \\lambda r_{p} \\int \\frac{e^{- \\mu t} e^{- r_{r} t} e^{k \\lambda t}}{e^{k \\lambda t} - 1}\\, dt - M N i_{0} k \\lambda r_{p} \\int \\frac{e^{- \\mu t} e^{- r_{r} t} e^{2 k \\lambda t}}{e^{k \\lambda t} - 1}\\, dt - k \\lambda r_{r} \\int \\frac{S{\\left(t \\right)} e^{- r_{r} t}}{e^{k \\lambda t} - 1}\\, dt + k \\lambda r_{r} \\int \\frac{S{\\left(t \\right)} e^{- r_{r} t} e^{k \\lambda t}}{e^{k \\lambda t} - 1}\\, dt + r_{p} r_{r} \\int \\frac{S{\\left(t \\right)} e^{- r_{r} t}}{e^{k \\lambda t} - 1}\\, dt - r_{p} r_{r} \\int \\frac{S{\\left(t \\right)} e^{- r_{r} t} e^{k \\lambda t}}{e^{k \\lambda t} - 1}\\, dt}{k \\lambda - r_{p}} = C_{1}$"
     },
     "execution_count": 8,
     "metadata": {},
     "output_type": "execute_result"
    }
   ],
   "execution_count": 8
  },
  {
   "metadata": {
    "ExecuteTime": {
     "end_time": "2025-03-09T09:45:12.622107700Z",
     "start_time": "2025-03-06T22:54:11.943343Z"
    }
   },
   "cell_type": "code",
   "source": [
    "S_eq_approx = S_eq.subs({rr: 0})\n",
    "S_sol_approx = sp.dsolve(S_eq_approx, ics={S(0): 0})"
   ],
   "id": "e22899692428d0b0",
   "outputs": [],
   "execution_count": 216
  },
  {
   "metadata": {
    "ExecuteTime": {
     "end_time": "2025-03-09T09:45:12.622107700Z",
     "start_time": "2025-03-06T22:55:42.926195Z"
    }
   },
   "cell_type": "code",
   "source": [
    "S_eq_approx = S_eq.subs({rr: 0}).simplify()\n",
    "S_eq_approx"
   ],
   "id": "3229473b5e549664",
   "outputs": [
    {
     "data": {
      "text/plain": [
       "Eq(Derivative(S(t), t), -M*N*i0*k*lambda*(mu*(exp(t*(k*lambda - r_p)) - 1)*exp(k*lambda*t) - (k*lambda - r_p)*(exp(k*lambda*t) - 1)*exp(t*(k*lambda - r_p)))*exp(-t*(mu - r_p))/((k*lambda - r_p)*(exp(k*lambda*t) - 1)))"
      ],
      "text/latex": "$\\displaystyle \\frac{d}{d t} S{\\left(t \\right)} = - \\frac{M N i_{0} k \\lambda \\left(\\mu \\left(e^{t \\left(k \\lambda - r_{p}\\right)} - 1\\right) e^{k \\lambda t} - \\left(k \\lambda - r_{p}\\right) \\left(e^{k \\lambda t} - 1\\right) e^{t \\left(k \\lambda - r_{p}\\right)}\\right) e^{- t \\left(\\mu - r_{p}\\right)}}{\\left(k \\lambda - r_{p}\\right) \\left(e^{k \\lambda t} - 1\\right)}$"
     },
     "execution_count": 220,
     "metadata": {},
     "output_type": "execute_result"
    }
   ],
   "execution_count": 220
  },
  {
   "metadata": {
    "ExecuteTime": {
     "end_time": "2025-03-09T09:45:12.628239900Z",
     "start_time": "2025-03-06T22:55:45.840376Z"
    }
   },
   "cell_type": "code",
   "source": "sp.solve(S_eq_approx.rhs,0)",
   "id": "7e9e73d12ea9d1f6",
   "outputs": [
    {
     "data": {
      "text/plain": [
       "[]"
      ]
     },
     "execution_count": 221,
     "metadata": {},
     "output_type": "execute_result"
    }
   ],
   "execution_count": 221
  },
  {
   "metadata": {
    "ExecuteTime": {
     "end_time": "2025-03-09T09:45:12.658256Z",
     "start_time": "2025-03-06T20:15:27.160497Z"
    }
   },
   "cell_type": "code",
   "source": "S_eq_approx.rhs.solve",
   "id": "48fd527f334fc471",
   "outputs": [
    {
     "data": {
      "text/plain": [
       "M*N*i0*k*lambda*exp(t*(k*lambda - mu)) - N*i0*mu*(-M*i0*k*lambda*exp(t*(-mu + r_p))/(k*lambda - r_p) + M*i0*k*lambda*exp(t*(k*lambda - mu))/(k*lambda - r_p))*exp(mu*t)*exp(t*(k*lambda - mu))/(i0*exp(k*lambda*t) - i0)"
      ],
      "text/latex": "$\\displaystyle M N i_{0} k \\lambda e^{t \\left(k \\lambda - \\mu\\right)} - \\frac{N i_{0} \\mu \\left(- \\frac{M i_{0} k \\lambda e^{t \\left(- \\mu + r_{p}\\right)}}{k \\lambda - r_{p}} + \\frac{M i_{0} k \\lambda e^{t \\left(k \\lambda - \\mu\\right)}}{k \\lambda - r_{p}}\\right) e^{\\mu t} e^{t \\left(k \\lambda - \\mu\\right)}}{i_{0} e^{k \\lambda t} - i_{0}}$"
     },
     "execution_count": 203,
     "metadata": {},
     "output_type": "execute_result"
    }
   ],
   "execution_count": 203
  },
  {
   "metadata": {
    "ExecuteTime": {
     "end_time": "2025-03-09T09:45:12.696946100Z",
     "start_time": "2025-03-06T20:14:12.920487Z"
    }
   },
   "cell_type": "code",
   "source": [
    "a,b,c,d,f = sp.symbols('a,b,c,d,f', real=True)\n",
    "S_prop = a  *sp.exp((b + rr)*t) + c*sp.exp((d + rr)*t) + f*sp.exp(rr*t)\n",
    "S_prop_diff = sp.diff(S_prop, t)\n",
    "S_eq = S_eq.subs({S(t).diff(t): S_prop_diff, S(t): S_prop})"
   ],
   "id": "64f30890214afaa2",
   "outputs": [],
   "execution_count": 195
  },
  {
   "metadata": {
    "ExecuteTime": {
     "end_time": "2025-03-09T09:45:12.729156800Z",
     "start_time": "2025-03-06T20:14:13.068612Z"
    }
   },
   "cell_type": "code",
   "source": "S_eq",
   "id": "7ba26e1f5106f42",
   "outputs": [
    {
     "data": {
      "text/plain": [
       "Eq(a*(b + r_r)*exp(t*(b + r_r)) + c*(d + r_r)*exp(t*(d + r_r)) + f*r_r*exp(r_r*t), M*N*i0*k*lambda*exp(t*(k*lambda - mu)) - N*i0*mu*(-M*i0*k*lambda*exp(t*(-mu + r_p))/(k*lambda - r_p) + M*i0*k*lambda*exp(t*(k*lambda - mu))/(k*lambda - r_p))*exp(mu*t)*exp(t*(k*lambda - mu))/(i0*exp(k*lambda*t) - i0) + r_r*(a*exp(t*(b + r_r)) + c*exp(t*(d + r_r)) + f*exp(r_r*t)))"
      ],
      "text/latex": "$\\displaystyle a \\left(b + r_{r}\\right) e^{t \\left(b + r_{r}\\right)} + c \\left(d + r_{r}\\right) e^{t \\left(d + r_{r}\\right)} + f r_{r} e^{r_{r} t} = M N i_{0} k \\lambda e^{t \\left(k \\lambda - \\mu\\right)} - \\frac{N i_{0} \\mu \\left(- \\frac{M i_{0} k \\lambda e^{t \\left(- \\mu + r_{p}\\right)}}{k \\lambda - r_{p}} + \\frac{M i_{0} k \\lambda e^{t \\left(k \\lambda - \\mu\\right)}}{k \\lambda - r_{p}}\\right) e^{\\mu t} e^{t \\left(k \\lambda - \\mu\\right)}}{i_{0} e^{k \\lambda t} - i_{0}} + r_{r} \\left(a e^{t \\left(b + r_{r}\\right)} + c e^{t \\left(d + r_{r}\\right)} + f e^{r_{r} t}\\right)$"
     },
     "execution_count": 196,
     "metadata": {},
     "output_type": "execute_result"
    }
   ],
   "execution_count": 196
  },
  {
   "metadata": {
    "ExecuteTime": {
     "end_time": "2025-03-09T09:45:12.729156800Z",
     "start_time": "2025-03-06T20:14:13.198209Z"
    }
   },
   "cell_type": "code",
   "source": "S_eq.simplify()",
   "id": "e29413b4ec445662",
   "outputs": [
    {
     "data": {
      "text/plain": [
       "Eq(a*(b + r_r)*exp(t*(b + r_r)) + c*(d + r_r)*exp(t*(d + r_r)) + f*r_r*exp(r_r*t), -(M*N*i0*k*lambda*mu*(exp(t*(k*lambda - r_p)) - 1)*exp(k*lambda*t) - (k*lambda - r_p)*(M*N*i0*k*lambda*exp(t*(k*lambda - mu)) + r_r*(a*exp(t*(b + r_r)) + c*exp(t*(d + r_r)) + f*exp(r_r*t)))*(exp(k*lambda*t) - 1)*exp(t*(mu - r_p)))*exp(-t*(mu - r_p))/((k*lambda - r_p)*(exp(k*lambda*t) - 1)))"
      ],
      "text/latex": "$\\displaystyle a \\left(b + r_{r}\\right) e^{t \\left(b + r_{r}\\right)} + c \\left(d + r_{r}\\right) e^{t \\left(d + r_{r}\\right)} + f r_{r} e^{r_{r} t} = - \\frac{\\left(M N i_{0} k \\lambda \\mu \\left(e^{t \\left(k \\lambda - r_{p}\\right)} - 1\\right) e^{k \\lambda t} - \\left(k \\lambda - r_{p}\\right) \\left(M N i_{0} k \\lambda e^{t \\left(k \\lambda - \\mu\\right)} + r_{r} \\left(a e^{t \\left(b + r_{r}\\right)} + c e^{t \\left(d + r_{r}\\right)} + f e^{r_{r} t}\\right)\\right) \\left(e^{k \\lambda t} - 1\\right) e^{t \\left(\\mu - r_{p}\\right)}\\right) e^{- t \\left(\\mu - r_{p}\\right)}}{\\left(k \\lambda - r_{p}\\right) \\left(e^{k \\lambda t} - 1\\right)}$"
     },
     "execution_count": 197,
     "metadata": {},
     "output_type": "execute_result"
    }
   ],
   "execution_count": 197
  },
  {
   "metadata": {
    "ExecuteTime": {
     "end_time": "2025-03-09T09:45:12.731620400Z",
     "start_time": "2025-03-06T20:14:17.213969Z"
    }
   },
   "cell_type": "code",
   "source": [
    "S_eq = sp.expand(S_eq, sp.exp(t))\n",
    "S_eq_expanded = sp.expand(S_eq)\n",
    "#S_eq_0 = S_eq_expanded.subs(t, 0)\n",
    "S_eq_expanded"
   ],
   "id": "6166af82bd5b73ac",
   "outputs": [
    {
     "data": {
      "text/plain": [
       "Eq(a*b*exp(b*t)*exp(r_r*t) + a*r_r*exp(b*t)*exp(r_r*t) + c*d*exp(d*t)*exp(r_r*t) + c*r_r*exp(d*t)*exp(r_r*t) + f*r_r*exp(r_r*t), M*N*i0**2*k*lambda*mu*exp(r_p*t)*exp(k*lambda*t)/(i0*k*lambda*exp(mu*t)*exp(k*lambda*t) - i0*k*lambda*exp(mu*t) - i0*r_p*exp(mu*t)*exp(k*lambda*t) + i0*r_p*exp(mu*t)) - M*N*i0**2*k*lambda*mu*exp(2*k*lambda*t)/(i0*k*lambda*exp(mu*t)*exp(k*lambda*t) - i0*k*lambda*exp(mu*t) - i0*r_p*exp(mu*t)*exp(k*lambda*t) + i0*r_p*exp(mu*t)) + M*N*i0*k*lambda*exp(-mu*t)*exp(k*lambda*t) + a*r_r*exp(b*t)*exp(r_r*t) + c*r_r*exp(d*t)*exp(r_r*t) + f*r_r*exp(r_r*t))"
      ],
      "text/latex": "$\\displaystyle a b e^{b t} e^{r_{r} t} + a r_{r} e^{b t} e^{r_{r} t} + c d e^{d t} e^{r_{r} t} + c r_{r} e^{d t} e^{r_{r} t} + f r_{r} e^{r_{r} t} = \\frac{M N i_{0}^{2} k \\lambda \\mu e^{r_{p} t} e^{k \\lambda t}}{i_{0} k \\lambda e^{\\mu t} e^{k \\lambda t} - i_{0} k \\lambda e^{\\mu t} - i_{0} r_{p} e^{\\mu t} e^{k \\lambda t} + i_{0} r_{p} e^{\\mu t}} - \\frac{M N i_{0}^{2} k \\lambda \\mu e^{2 k \\lambda t}}{i_{0} k \\lambda e^{\\mu t} e^{k \\lambda t} - i_{0} k \\lambda e^{\\mu t} - i_{0} r_{p} e^{\\mu t} e^{k \\lambda t} + i_{0} r_{p} e^{\\mu t}} + M N i_{0} k \\lambda e^{- \\mu t} e^{k \\lambda t} + a r_{r} e^{b t} e^{r_{r} t} + c r_{r} e^{d t} e^{r_{r} t} + f r_{r} e^{r_{r} t}$"
     },
     "execution_count": 198,
     "metadata": {},
     "output_type": "execute_result"
    }
   ],
   "execution_count": 198
  },
  {
   "metadata": {
    "ExecuteTime": {
     "end_time": "2025-03-09T09:45:12.731620400Z",
     "start_time": "2025-03-06T20:14:17.571056Z"
    }
   },
   "cell_type": "code",
   "source": "S_eq_expanded.coeff(sp.exp(rp*t + k * lambda_ * t))",
   "id": "d8892bd498dc9f21",
   "outputs": [
    {
     "ename": "AttributeError",
     "evalue": "'Equality' object has no attribute 'coeff'",
     "output_type": "error",
     "traceback": [
      "\u001B[1;31m---------------------------------------------------------------------------\u001B[0m",
      "\u001B[1;31mAttributeError\u001B[0m                            Traceback (most recent call last)",
      "Cell \u001B[1;32mIn[199], line 1\u001B[0m\n\u001B[1;32m----> 1\u001B[0m \u001B[43mS_eq_expanded\u001B[49m\u001B[38;5;241;43m.\u001B[39;49m\u001B[43mcoeff\u001B[49m(sp\u001B[38;5;241m.\u001B[39mexp(rp\u001B[38;5;241m*\u001B[39mt \u001B[38;5;241m+\u001B[39m k \u001B[38;5;241m*\u001B[39m lambda_ \u001B[38;5;241m*\u001B[39m t))\n",
      "\u001B[1;31mAttributeError\u001B[0m: 'Equality' object has no attribute 'coeff'"
     ]
    }
   ],
   "execution_count": 199
  },
  {
   "metadata": {
    "ExecuteTime": {
     "end_time": "2025-03-09T09:45:12.731620400Z",
     "start_time": "2025-03-06T20:05:45.819578Z"
    }
   },
   "cell_type": "code",
   "source": "",
   "id": "38af4a8056334b5a",
   "outputs": [
    {
     "data": {
      "text/plain": [
       "M*N*k*lambda*i(t) - N*mu*U(t)*i(t)/C(t) + r_r*S(t)"
      ],
      "text/latex": "$\\displaystyle M N k \\lambda i{\\left(t \\right)} - \\frac{N \\mu U{\\left(t \\right)} i{\\left(t \\right)}}{C{\\left(t \\right)}} + r_{r} S{\\left(t \\right)}$"
     },
     "execution_count": 160,
     "metadata": {},
     "output_type": "execute_result"
    }
   ],
   "execution_count": 160
  }
 ],
 "metadata": {
  "kernelspec": {
   "display_name": "Python 3",
   "language": "python",
   "name": "python3"
  },
  "language_info": {
   "codemirror_mode": {
    "name": "ipython",
    "version": 2
   },
   "file_extension": ".py",
   "mimetype": "text/x-python",
   "name": "python",
   "nbconvert_exporter": "python",
   "pygments_lexer": "ipython2",
   "version": "2.7.6"
  }
 },
 "nbformat": 4,
 "nbformat_minor": 5
}
