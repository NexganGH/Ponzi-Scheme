{
 "cells": [
  {
   "cell_type": "code",
   "id": "initial_id",
   "metadata": {
    "collapsed": true,
    "ExecuteTime": {
     "end_time": "2025-03-05T19:40:30.165004Z",
     "start_time": "2025-03-05T19:40:30.141699Z"
    }
   },
   "source": [
    "import sympy as sp\n",
    "\n",
    "# Time variable\n",
    "t = sp.symbols('t')\n",
    "\n",
    "# Define state variables as functions of time\n",
    "i = sp.Function('i')(t)\n",
    "p = sp.Function('p')(t)\n",
    "S = sp.Function('S')(t)\n",
    "U = sp.Function('U')(t)\n",
    "C = sp.Function('C')(t)\n",
    "rr = sp.Function('r_r')(t)\n",
    "rp = sp.Function('r_p')(t)\n",
    "\n",
    "# Control function u(t)\n",
    "u = sp.Function('u')(t)\n",
    "\n",
    "# Define auxiliary functions lambda(t) and mu(t)\n",
    "lambda_ = sp.symbols('lambda') + u\n",
    "mu = sp.symbols('mu')# + u\n",
    "\n",
    "# Define constants, k\n",
    "k = sp.symbols('k')\n",
    "N = sp.symbols('N')\n",
    "M = sp.symbols('M')\n",
    "# Define the state equations in terms of u(t) (arbitrary examples)\n",
    "di_dt = lambda_ * k * p * i - mu * i  # Example form for di/dt\n",
    "dp_dt = -lambda_ * k  * p * i\n",
    "dS_dt = rr * S + N * M * lambda_ * k * p * i - N * mu * i * U/C\n",
    "dU_dt = M * lambda_ * k * p * i + (rp - mu)*U\n",
    "dC_dt = lambda_ * k * p * i - mu * C # Define f_C as the appropriate function\n",
    "\n",
    "# List of state equations\n",
    "state_eqs = [di_dt, dp_dt, dS_dt, dU_dt, dC_dt]\n",
    "\n",
    "# Print state equations\n",
    "for eq in state_eqs:\n",
    "    sp.pprint(eq)\n"
   ],
   "outputs": [
    {
     "name": "stdout",
     "output_type": "stream",
     "text": [
      "k⋅(λ + u(t))⋅i(t)⋅p(t) - μ⋅i(t)\n",
      "k⋅(-λ - u(t))⋅i(t)⋅p(t)\n",
      "                             N⋅μ⋅U(t)⋅i(t)             \n",
      "M⋅N⋅k⋅(λ + u(t))⋅i(t)⋅p(t) - ───────────── + S(t)⋅rᵣ(t)\n",
      "                                 C(t)                  \n",
      "M⋅k⋅(λ + u(t))⋅i(t)⋅p(t) + (-μ + rₚ(t))⋅U(t)\n",
      "k⋅(λ + u(t))⋅i(t)⋅p(t) - μ⋅C(t)\n"
     ]
    }
   ],
   "execution_count": 78
  },
  {
   "metadata": {
    "ExecuteTime": {
     "end_time": "2025-03-05T19:40:30.190250Z",
     "start_time": "2025-03-05T19:40:30.179327Z"
    }
   },
   "cell_type": "code",
   "source": "dS_dt",
   "id": "c2c321e153a65d17",
   "outputs": [
    {
     "data": {
      "text/plain": [
       "M*N*k*(lambda + u(t))*i(t)*p(t) - N*mu*U(t)*i(t)/C(t) + S(t)*r_r(t)"
      ],
      "text/latex": "$\\displaystyle M N k \\left(\\lambda + u{\\left(t \\right)}\\right) i{\\left(t \\right)} p{\\left(t \\right)} - \\frac{N \\mu U{\\left(t \\right)} i{\\left(t \\right)}}{C{\\left(t \\right)}} + S{\\left(t \\right)} r_{r}{\\left(t \\right)}$"
     },
     "execution_count": 79,
     "metadata": {},
     "output_type": "execute_result"
    }
   ],
   "execution_count": 79
  },
  {
   "metadata": {
    "ExecuteTime": {
     "end_time": "2025-03-05T19:40:30.372454Z",
     "start_time": "2025-03-05T19:40:30.365411Z"
    }
   },
   "cell_type": "code",
   "source": [
    "L = -S#sp.Function('L')(t)\n",
    "lambda_i = sp.Function('lambda_i')(t)\n",
    "lambda_p = sp.Function('lambda_p')(t)\n",
    "lambda_S = sp.Function('lambda_S')(t)\n",
    "lambda_U = sp.Function('lambda_U')(t)\n",
    "lambda_C = sp.Function('lambda_C')(t)\n",
    "\n",
    "# Hamiltonian\n",
    "H = L + lambda_i * di_dt + lambda_p * dp_dt + lambda_S * dS_dt + lambda_U * dU_dt + lambda_C * dC_dt"
   ],
   "id": "2577bcea7118b63e",
   "outputs": [],
   "execution_count": 80
  },
  {
   "metadata": {
    "ExecuteTime": {
     "end_time": "2025-03-05T19:40:31.068804Z",
     "start_time": "2025-03-05T19:40:30.540052Z"
    }
   },
   "cell_type": "code",
   "source": [
    "# Derivative of the Hamiltonian w.r.t. u\n",
    "dH_du = sp.diff(H, u)\n",
    "\n",
    "# Solve for the optimal control u(t)\n",
    "optimal_u = sp.solve(dH_du, u)\n",
    "optimal_u\n"
   ],
   "id": "81062d2e3b04010c",
   "outputs": [
    {
     "data": {
      "text/plain": [
       "[]"
      ]
     },
     "execution_count": 81,
     "metadata": {},
     "output_type": "execute_result"
    }
   ],
   "execution_count": 81
  },
  {
   "metadata": {
    "ExecuteTime": {
     "end_time": "2025-03-05T19:40:31.405976Z",
     "start_time": "2025-03-05T19:40:31.386067Z"
    }
   },
   "cell_type": "code",
   "source": "H",
   "id": "b1713fc0624f1240",
   "outputs": [
    {
     "data": {
      "text/plain": [
       "k*(-lambda - u(t))*i(t)*lambda_p(t)*p(t) + (k*(lambda + u(t))*i(t)*p(t) - mu*C(t))*lambda_C(t) + (k*(lambda + u(t))*i(t)*p(t) - mu*i(t))*lambda_i(t) + (M*k*(lambda + u(t))*i(t)*p(t) + (-mu + r_p(t))*U(t))*lambda_U(t) + (M*N*k*(lambda + u(t))*i(t)*p(t) - N*mu*U(t)*i(t)/C(t) + S(t)*r_r(t))*lambda_S(t) - S(t)"
      ],
      "text/latex": "$\\displaystyle k \\left(- \\lambda - u{\\left(t \\right)}\\right) i{\\left(t \\right)} \\lambda_{p}{\\left(t \\right)} p{\\left(t \\right)} + \\left(k \\left(\\lambda + u{\\left(t \\right)}\\right) i{\\left(t \\right)} p{\\left(t \\right)} - \\mu C{\\left(t \\right)}\\right) \\lambda_{C}{\\left(t \\right)} + \\left(k \\left(\\lambda + u{\\left(t \\right)}\\right) i{\\left(t \\right)} p{\\left(t \\right)} - \\mu i{\\left(t \\right)}\\right) \\lambda_{i}{\\left(t \\right)} + \\left(M k \\left(\\lambda + u{\\left(t \\right)}\\right) i{\\left(t \\right)} p{\\left(t \\right)} + \\left(- \\mu + r_{p}{\\left(t \\right)}\\right) U{\\left(t \\right)}\\right) \\lambda_{U}{\\left(t \\right)} + \\left(M N k \\left(\\lambda + u{\\left(t \\right)}\\right) i{\\left(t \\right)} p{\\left(t \\right)} - \\frac{N \\mu U{\\left(t \\right)} i{\\left(t \\right)}}{C{\\left(t \\right)}} + S{\\left(t \\right)} r_{r}{\\left(t \\right)}\\right) \\lambda_{S}{\\left(t \\right)} - S{\\left(t \\right)}$"
     },
     "execution_count": 82,
     "metadata": {},
     "output_type": "execute_result"
    }
   ],
   "execution_count": 82
  },
  {
   "metadata": {
    "ExecuteTime": {
     "end_time": "2025-03-05T19:40:31.438671Z",
     "start_time": "2025-03-05T19:40:31.426468Z"
    }
   },
   "cell_type": "code",
   "source": "dH_du",
   "id": "ae23728ca3d318d0",
   "outputs": [
    {
     "data": {
      "text/plain": [
       "M*N*k*i(t)*lambda_S(t)*p(t) + M*k*i(t)*lambda_U(t)*p(t) + k*i(t)*lambda_C(t)*p(t) + k*i(t)*lambda_i(t)*p(t) - k*i(t)*lambda_p(t)*p(t)"
      ],
      "text/latex": "$\\displaystyle M N k i{\\left(t \\right)} \\lambda_{S}{\\left(t \\right)} p{\\left(t \\right)} + M k i{\\left(t \\right)} \\lambda_{U}{\\left(t \\right)} p{\\left(t \\right)} + k i{\\left(t \\right)} \\lambda_{C}{\\left(t \\right)} p{\\left(t \\right)} + k i{\\left(t \\right)} \\lambda_{i}{\\left(t \\right)} p{\\left(t \\right)} - k i{\\left(t \\right)} \\lambda_{p}{\\left(t \\right)} p{\\left(t \\right)}$"
     },
     "execution_count": 83,
     "metadata": {},
     "output_type": "execute_result"
    }
   ],
   "execution_count": 83
  },
  {
   "metadata": {
    "ExecuteTime": {
     "end_time": "2025-03-05T19:40:31.613296Z",
     "start_time": "2025-03-05T19:40:31.610174Z"
    }
   },
   "cell_type": "code",
   "source": "",
   "id": "31fd6768083e287d",
   "outputs": [],
   "execution_count": null
  },
  {
   "metadata": {
    "ExecuteTime": {
     "end_time": "2025-03-05T19:40:32.352729Z",
     "start_time": "2025-03-05T19:40:31.771692Z"
    }
   },
   "cell_type": "code",
   "source": [
    "# Compute partial derivatives of H with respect to each state variable\n",
    "dH_di = sp.diff(H, i)\n",
    "dH_dp = sp.diff(H, p)\n",
    "dH_dS = sp.diff(H, S)\n",
    "dH_dU = sp.diff(H, U)\n",
    "dH_dC = sp.diff(H, C)\n",
    "\n",
    "# Costate equations (d_lambda_i/dt = -dH/di, and similarly for the other costates)\n",
    "costate_eq_i = sp.diff(lambda_i, t) + dH_di\n",
    "costate_eq_p = sp.diff(lambda_p, t) + dH_dp\n",
    "costate_eq_S = sp.diff(lambda_S, t) + dH_dS\n",
    "costate_eq_U = sp.diff(lambda_U, t) + dH_dU\n",
    "costate_eq_C = sp.diff(lambda_C, t) + dH_dC\n",
    "\n",
    "dH_di = -sp.diff(H, i)\n",
    "dH_dp = -sp.diff(H, p)\n",
    "dH_dS = -sp.diff(H, S)\n",
    "dH_dU = -sp.diff(H, U)\n",
    "dH_dC = -sp.diff(H, C)\n",
    "\n",
    "# Dictionary of substitutions\n",
    "costate_subs = {\n",
    "    sp.Derivative(lambda_i, t): dH_di,\n",
    "    sp.Derivative(lambda_p, t): dH_dp,\n",
    "    sp.Derivative(lambda_S, t): dH_dS,\n",
    "    sp.Derivative(lambda_U, t): dH_dU,\n",
    "    sp.Derivative(lambda_C, t): dH_dC\n",
    "}\n",
    "\n",
    "# Display the costate equations\n",
    "costate_eq_i.simplify(), costate_eq_p.simplify(), costate_eq_S.simplify(), costate_eq_U.simplify(), costate_eq_C.simplify()\n"
   ],
   "id": "2a4fd1c6a75b56bb",
   "outputs": [
    {
     "data": {
      "text/plain": [
       "((N*(M*k*(lambda + u(t))*C(t)*p(t) - mu*U(t))*lambda_S(t) + (M*k*(lambda + u(t))*lambda_U(t)*p(t) + k*(lambda + u(t))*lambda_C(t)*p(t) - k*(lambda + u(t))*lambda_p(t)*p(t) + (k*(lambda + u(t))*p(t) - mu)*lambda_i(t) + Derivative(lambda_i(t), t))*C(t))/C(t),\n",
       " M*N*k*(lambda + u(t))*i(t)*lambda_S(t) + M*k*(lambda + u(t))*i(t)*lambda_U(t) + k*(lambda + u(t))*i(t)*lambda_C(t) + k*(lambda + u(t))*i(t)*lambda_i(t) - k*(lambda + u(t))*i(t)*lambda_p(t) + Derivative(lambda_p(t), t),\n",
       " lambda_S(t)*r_r(t) + Derivative(lambda_S(t), t) - 1,\n",
       " (-N*mu*i(t)*lambda_S(t) + (-(mu - r_p(t))*lambda_U(t) + Derivative(lambda_U(t), t))*C(t))/C(t),\n",
       " N*mu*U(t)*i(t)*lambda_S(t)/C(t)**2 - mu*lambda_C(t) + Derivative(lambda_C(t), t))"
      ]
     },
     "execution_count": 84,
     "metadata": {},
     "output_type": "execute_result"
    }
   ],
   "execution_count": 84
  },
  {
   "metadata": {
    "ExecuteTime": {
     "end_time": "2025-03-05T19:40:32.524798Z",
     "start_time": "2025-03-05T19:40:32.514700Z"
    }
   },
   "cell_type": "code",
   "source": "dS_dt",
   "id": "f14ec703168ac5be",
   "outputs": [
    {
     "data": {
      "text/plain": [
       "M*N*k*(lambda + u(t))*i(t)*p(t) - N*mu*U(t)*i(t)/C(t) + S(t)*r_r(t)"
      ],
      "text/latex": "$\\displaystyle M N k \\left(\\lambda + u{\\left(t \\right)}\\right) i{\\left(t \\right)} p{\\left(t \\right)} - \\frac{N \\mu U{\\left(t \\right)} i{\\left(t \\right)}}{C{\\left(t \\right)}} + S{\\left(t \\right)} r_{r}{\\left(t \\right)}$"
     },
     "execution_count": 85,
     "metadata": {},
     "output_type": "execute_result"
    }
   ],
   "execution_count": 85
  },
  {
   "metadata": {
    "ExecuteTime": {
     "end_time": "2025-03-05T19:40:35.767362Z",
     "start_time": "2025-03-05T19:40:32.686247Z"
    }
   },
   "cell_type": "code",
   "source": [
    "dH_du_dt = sp.diff(dH_du, t)\n",
    "\n",
    "# Create a dictionary of substitutions\n",
    "subs_dict = {\n",
    "    sp.Derivative(p, t): dp_dt,\n",
    "    sp.Derivative(i, t): di_dt,\n",
    "    sp.Derivative(S, t): dS_dt,\n",
    "    sp.Derivative(U, t): dU_dt,\n",
    "    sp.Derivative(C, t): dC_dt\n",
    "}\n",
    "\n",
    "# Substitute the original expressions\n",
    "dH_du_dt_substituted = dH_du_dt.subs(subs_dict).subs(costate_subs)\n",
    "dH_du_dt_2_substituted = sp.diff(dH_du_dt_substituted, t).subs(subs_dict).subs(costate_subs)\n",
    "\n",
    "# Display the updated expression\n",
    "dH_du_dt_2_substituted.simplify()"
   ],
   "id": "1940781757a038ff",
   "outputs": [
    {
     "data": {
      "text/plain": [
       "k*(-M*N*k*lambda*mu*C(t)**3*lambda_S(t)*p(t) - M*N*k*lambda*mu*C(t)**2*i(t)**2*lambda_S(t) + 3*M*N*k*lambda*mu*C(t)**2*i(t)*lambda_S(t)*p(t) - 2*M*N*k*lambda*mu*C(t)*i(t)**2*lambda_S(t)*p(t) + M*N*k*lambda*C(t)**3*i(t)*lambda_S(t)*r_r(t) - M*N*k*lambda*C(t)**3*i(t) - M*N*k*lambda*C(t)**3*lambda_S(t)*p(t)*r_r(t) + M*N*k*lambda*C(t)**3*p(t) - M*N*k*mu*C(t)**3*lambda_S(t)*p(t)*u(t) - M*N*k*mu*C(t)**2*i(t)**2*lambda_S(t)*u(t) + 3*M*N*k*mu*C(t)**2*i(t)*lambda_S(t)*p(t)*u(t) - 2*M*N*k*mu*C(t)*i(t)**2*lambda_S(t)*p(t)*u(t) + M*N*k*C(t)**3*i(t)*lambda_S(t)*r_r(t)*u(t) - M*N*k*C(t)**3*i(t)*u(t) - M*N*k*C(t)**3*lambda_S(t)*p(t)*r_r(t)*u(t) + M*N*k*C(t)**3*p(t)*u(t) + M*N*mu**2*C(t)**3*lambda_S(t) - M*N*mu**2*C(t)**2*i(t)*lambda_S(t) + 2*M*N*mu*C(t)**3*lambda_S(t)*r_r(t) - 2*M*N*mu*C(t)**3 - M*N*mu*C(t)**2*i(t)*lambda_S(t)*r_p(t) - M*N*mu*C(t)**2*i(t)*lambda_S(t)*r_r(t) + M*N*mu*C(t)**2*i(t) + M*N*C(t)**3*lambda_S(t)*r_r(t)**2 - M*N*C(t)**3*lambda_S(t)*Derivative(r_r(t), t) - M*N*C(t)**3*r_r(t) - M*k*lambda*mu*C(t)**3*i(t)*lambda_U(t) + M*k*lambda*C(t)**3*i(t)*lambda_U(t)*r_p(t) - M*k*lambda*C(t)**3*lambda_U(t)*p(t)*r_p(t) - M*k*mu*C(t)**3*i(t)*lambda_U(t)*u(t) + M*k*C(t)**3*i(t)*lambda_U(t)*r_p(t)*u(t) - M*k*C(t)**3*lambda_U(t)*p(t)*r_p(t)*u(t) + M*C(t)**3*lambda_U(t)*r_p(t)**2 - M*C(t)**3*lambda_U(t)*Derivative(r_p(t), t) - N*k*lambda*mu*C(t)**2*U(t)*i(t)*lambda_S(t) + N*k*lambda*mu*C(t)**2*U(t)*lambda_S(t)*p(t) + N*k*lambda*mu*C(t)*U(t)*i(t)**2*lambda_S(t) - 3*N*k*lambda*mu*C(t)*U(t)*i(t)*lambda_S(t)*p(t) + 2*N*k*lambda*mu*U(t)*i(t)**2*lambda_S(t)*p(t) - N*k*mu*C(t)**2*U(t)*i(t)*lambda_S(t)*u(t) + N*k*mu*C(t)**2*U(t)*lambda_S(t)*p(t)*u(t) + N*k*mu*C(t)*U(t)*i(t)**2*lambda_S(t)*u(t) - 3*N*k*mu*C(t)*U(t)*i(t)*lambda_S(t)*p(t)*u(t) + 2*N*k*mu*U(t)*i(t)**2*lambda_S(t)*p(t)*u(t) - N*mu**2*C(t)**2*U(t)*lambda_S(t) + N*mu**2*C(t)*U(t)*i(t)*lambda_S(t) + N*mu*C(t)**2*U(t)*lambda_S(t)*r_p(t) - N*mu*C(t)**2*U(t)*lambda_S(t)*r_r(t) + N*mu*C(t)**2*U(t) - N*mu*C(t)*U(t)*i(t)*lambda_S(t)*r_p(t) + N*mu*C(t)*U(t)*i(t)*lambda_S(t)*r_r(t) - N*mu*C(t)*U(t)*i(t) - k*lambda*mu*C(t)**3*i(t)*lambda_C(t) - k*lambda*mu*C(t)**3*i(t)*lambda_i(t) + k*lambda*mu*C(t)**3*lambda_p(t)*p(t) - k*mu*C(t)**3*i(t)*lambda_C(t)*u(t) - k*mu*C(t)**3*i(t)*lambda_i(t)*u(t) + k*mu*C(t)**3*lambda_p(t)*p(t)*u(t) - mu**2*C(t)**3*lambda_p(t))*i(t)*p(t)/C(t)**3"
      ],
      "text/latex": "$\\displaystyle \\frac{k \\left(- M N k \\lambda \\mu C^{3}{\\left(t \\right)} \\lambda_{S}{\\left(t \\right)} p{\\left(t \\right)} - M N k \\lambda \\mu C^{2}{\\left(t \\right)} i^{2}{\\left(t \\right)} \\lambda_{S}{\\left(t \\right)} + 3 M N k \\lambda \\mu C^{2}{\\left(t \\right)} i{\\left(t \\right)} \\lambda_{S}{\\left(t \\right)} p{\\left(t \\right)} - 2 M N k \\lambda \\mu C{\\left(t \\right)} i^{2}{\\left(t \\right)} \\lambda_{S}{\\left(t \\right)} p{\\left(t \\right)} + M N k \\lambda C^{3}{\\left(t \\right)} i{\\left(t \\right)} \\lambda_{S}{\\left(t \\right)} r_{r}{\\left(t \\right)} - M N k \\lambda C^{3}{\\left(t \\right)} i{\\left(t \\right)} - M N k \\lambda C^{3}{\\left(t \\right)} \\lambda_{S}{\\left(t \\right)} p{\\left(t \\right)} r_{r}{\\left(t \\right)} + M N k \\lambda C^{3}{\\left(t \\right)} p{\\left(t \\right)} - M N k \\mu C^{3}{\\left(t \\right)} \\lambda_{S}{\\left(t \\right)} p{\\left(t \\right)} u{\\left(t \\right)} - M N k \\mu C^{2}{\\left(t \\right)} i^{2}{\\left(t \\right)} \\lambda_{S}{\\left(t \\right)} u{\\left(t \\right)} + 3 M N k \\mu C^{2}{\\left(t \\right)} i{\\left(t \\right)} \\lambda_{S}{\\left(t \\right)} p{\\left(t \\right)} u{\\left(t \\right)} - 2 M N k \\mu C{\\left(t \\right)} i^{2}{\\left(t \\right)} \\lambda_{S}{\\left(t \\right)} p{\\left(t \\right)} u{\\left(t \\right)} + M N k C^{3}{\\left(t \\right)} i{\\left(t \\right)} \\lambda_{S}{\\left(t \\right)} r_{r}{\\left(t \\right)} u{\\left(t \\right)} - M N k C^{3}{\\left(t \\right)} i{\\left(t \\right)} u{\\left(t \\right)} - M N k C^{3}{\\left(t \\right)} \\lambda_{S}{\\left(t \\right)} p{\\left(t \\right)} r_{r}{\\left(t \\right)} u{\\left(t \\right)} + M N k C^{3}{\\left(t \\right)} p{\\left(t \\right)} u{\\left(t \\right)} + M N \\mu^{2} C^{3}{\\left(t \\right)} \\lambda_{S}{\\left(t \\right)} - M N \\mu^{2} C^{2}{\\left(t \\right)} i{\\left(t \\right)} \\lambda_{S}{\\left(t \\right)} + 2 M N \\mu C^{3}{\\left(t \\right)} \\lambda_{S}{\\left(t \\right)} r_{r}{\\left(t \\right)} - 2 M N \\mu C^{3}{\\left(t \\right)} - M N \\mu C^{2}{\\left(t \\right)} i{\\left(t \\right)} \\lambda_{S}{\\left(t \\right)} r_{p}{\\left(t \\right)} - M N \\mu C^{2}{\\left(t \\right)} i{\\left(t \\right)} \\lambda_{S}{\\left(t \\right)} r_{r}{\\left(t \\right)} + M N \\mu C^{2}{\\left(t \\right)} i{\\left(t \\right)} + M N C^{3}{\\left(t \\right)} \\lambda_{S}{\\left(t \\right)} r_{r}^{2}{\\left(t \\right)} - M N C^{3}{\\left(t \\right)} \\lambda_{S}{\\left(t \\right)} \\frac{d}{d t} r_{r}{\\left(t \\right)} - M N C^{3}{\\left(t \\right)} r_{r}{\\left(t \\right)} - M k \\lambda \\mu C^{3}{\\left(t \\right)} i{\\left(t \\right)} \\lambda_{U}{\\left(t \\right)} + M k \\lambda C^{3}{\\left(t \\right)} i{\\left(t \\right)} \\lambda_{U}{\\left(t \\right)} r_{p}{\\left(t \\right)} - M k \\lambda C^{3}{\\left(t \\right)} \\lambda_{U}{\\left(t \\right)} p{\\left(t \\right)} r_{p}{\\left(t \\right)} - M k \\mu C^{3}{\\left(t \\right)} i{\\left(t \\right)} \\lambda_{U}{\\left(t \\right)} u{\\left(t \\right)} + M k C^{3}{\\left(t \\right)} i{\\left(t \\right)} \\lambda_{U}{\\left(t \\right)} r_{p}{\\left(t \\right)} u{\\left(t \\right)} - M k C^{3}{\\left(t \\right)} \\lambda_{U}{\\left(t \\right)} p{\\left(t \\right)} r_{p}{\\left(t \\right)} u{\\left(t \\right)} + M C^{3}{\\left(t \\right)} \\lambda_{U}{\\left(t \\right)} r_{p}^{2}{\\left(t \\right)} - M C^{3}{\\left(t \\right)} \\lambda_{U}{\\left(t \\right)} \\frac{d}{d t} r_{p}{\\left(t \\right)} - N k \\lambda \\mu C^{2}{\\left(t \\right)} U{\\left(t \\right)} i{\\left(t \\right)} \\lambda_{S}{\\left(t \\right)} + N k \\lambda \\mu C^{2}{\\left(t \\right)} U{\\left(t \\right)} \\lambda_{S}{\\left(t \\right)} p{\\left(t \\right)} + N k \\lambda \\mu C{\\left(t \\right)} U{\\left(t \\right)} i^{2}{\\left(t \\right)} \\lambda_{S}{\\left(t \\right)} - 3 N k \\lambda \\mu C{\\left(t \\right)} U{\\left(t \\right)} i{\\left(t \\right)} \\lambda_{S}{\\left(t \\right)} p{\\left(t \\right)} + 2 N k \\lambda \\mu U{\\left(t \\right)} i^{2}{\\left(t \\right)} \\lambda_{S}{\\left(t \\right)} p{\\left(t \\right)} - N k \\mu C^{2}{\\left(t \\right)} U{\\left(t \\right)} i{\\left(t \\right)} \\lambda_{S}{\\left(t \\right)} u{\\left(t \\right)} + N k \\mu C^{2}{\\left(t \\right)} U{\\left(t \\right)} \\lambda_{S}{\\left(t \\right)} p{\\left(t \\right)} u{\\left(t \\right)} + N k \\mu C{\\left(t \\right)} U{\\left(t \\right)} i^{2}{\\left(t \\right)} \\lambda_{S}{\\left(t \\right)} u{\\left(t \\right)} - 3 N k \\mu C{\\left(t \\right)} U{\\left(t \\right)} i{\\left(t \\right)} \\lambda_{S}{\\left(t \\right)} p{\\left(t \\right)} u{\\left(t \\right)} + 2 N k \\mu U{\\left(t \\right)} i^{2}{\\left(t \\right)} \\lambda_{S}{\\left(t \\right)} p{\\left(t \\right)} u{\\left(t \\right)} - N \\mu^{2} C^{2}{\\left(t \\right)} U{\\left(t \\right)} \\lambda_{S}{\\left(t \\right)} + N \\mu^{2} C{\\left(t \\right)} U{\\left(t \\right)} i{\\left(t \\right)} \\lambda_{S}{\\left(t \\right)} + N \\mu C^{2}{\\left(t \\right)} U{\\left(t \\right)} \\lambda_{S}{\\left(t \\right)} r_{p}{\\left(t \\right)} - N \\mu C^{2}{\\left(t \\right)} U{\\left(t \\right)} \\lambda_{S}{\\left(t \\right)} r_{r}{\\left(t \\right)} + N \\mu C^{2}{\\left(t \\right)} U{\\left(t \\right)} - N \\mu C{\\left(t \\right)} U{\\left(t \\right)} i{\\left(t \\right)} \\lambda_{S}{\\left(t \\right)} r_{p}{\\left(t \\right)} + N \\mu C{\\left(t \\right)} U{\\left(t \\right)} i{\\left(t \\right)} \\lambda_{S}{\\left(t \\right)} r_{r}{\\left(t \\right)} - N \\mu C{\\left(t \\right)} U{\\left(t \\right)} i{\\left(t \\right)} - k \\lambda \\mu C^{3}{\\left(t \\right)} i{\\left(t \\right)} \\lambda_{C}{\\left(t \\right)} - k \\lambda \\mu C^{3}{\\left(t \\right)} i{\\left(t \\right)} \\lambda_{i}{\\left(t \\right)} + k \\lambda \\mu C^{3}{\\left(t \\right)} \\lambda_{p}{\\left(t \\right)} p{\\left(t \\right)} - k \\mu C^{3}{\\left(t \\right)} i{\\left(t \\right)} \\lambda_{C}{\\left(t \\right)} u{\\left(t \\right)} - k \\mu C^{3}{\\left(t \\right)} i{\\left(t \\right)} \\lambda_{i}{\\left(t \\right)} u{\\left(t \\right)} + k \\mu C^{3}{\\left(t \\right)} \\lambda_{p}{\\left(t \\right)} p{\\left(t \\right)} u{\\left(t \\right)} - \\mu^{2} C^{3}{\\left(t \\right)} \\lambda_{p}{\\left(t \\right)}\\right) i{\\left(t \\right)} p{\\left(t \\right)}}{C^{3}{\\left(t \\right)}}$"
     },
     "execution_count": 86,
     "metadata": {},
     "output_type": "execute_result"
    }
   ],
   "execution_count": 86
  },
  {
   "metadata": {
    "ExecuteTime": {
     "end_time": "2025-03-05T19:40:36.167989Z",
     "start_time": "2025-03-05T19:40:36.150555Z"
    }
   },
   "cell_type": "code",
   "source": "costate_eq_i",
   "id": "3c408d4629ab8fd0",
   "outputs": [
    {
     "data": {
      "text/plain": [
       "M*k*(lambda + u(t))*lambda_U(t)*p(t) + k*(-lambda - u(t))*lambda_p(t)*p(t) + k*(lambda + u(t))*lambda_C(t)*p(t) + (k*(lambda + u(t))*p(t) - mu)*lambda_i(t) + (M*N*k*(lambda + u(t))*p(t) - N*mu*U(t)/C(t))*lambda_S(t) + Derivative(lambda_i(t), t)"
      ],
      "text/latex": "$\\displaystyle M k \\left(\\lambda + u{\\left(t \\right)}\\right) \\lambda_{U}{\\left(t \\right)} p{\\left(t \\right)} + k \\left(- \\lambda - u{\\left(t \\right)}\\right) \\lambda_{p}{\\left(t \\right)} p{\\left(t \\right)} + k \\left(\\lambda + u{\\left(t \\right)}\\right) \\lambda_{C}{\\left(t \\right)} p{\\left(t \\right)} + \\left(k \\left(\\lambda + u{\\left(t \\right)}\\right) p{\\left(t \\right)} - \\mu\\right) \\lambda_{i}{\\left(t \\right)} + \\left(M N k \\left(\\lambda + u{\\left(t \\right)}\\right) p{\\left(t \\right)} - \\frac{N \\mu U{\\left(t \\right)}}{C{\\left(t \\right)}}\\right) \\lambda_{S}{\\left(t \\right)} + \\frac{d}{d t} \\lambda_{i}{\\left(t \\right)}$"
     },
     "execution_count": 87,
     "metadata": {},
     "output_type": "execute_result"
    }
   ],
   "execution_count": 87
  },
  {
   "metadata": {
    "ExecuteTime": {
     "end_time": "2025-03-05T19:40:36.391697Z",
     "start_time": "2025-03-05T19:40:36.365Z"
    }
   },
   "cell_type": "code",
   "source": "(costate_eq_S.simplify())",
   "id": "3684721db9edbf51",
   "outputs": [
    {
     "data": {
      "text/plain": [
       "lambda_S(t)*r_r(t) + Derivative(lambda_S(t), t) - 1"
      ],
      "text/latex": "$\\displaystyle \\lambda_{S}{\\left(t \\right)} r_{r}{\\left(t \\right)} + \\frac{d}{d t} \\lambda_{S}{\\left(t \\right)} - 1$"
     },
     "execution_count": 88,
     "metadata": {},
     "output_type": "execute_result"
    }
   ],
   "execution_count": 88
  },
  {
   "metadata": {
    "ExecuteTime": {
     "end_time": "2025-03-05T19:40:36.430609Z",
     "start_time": "2025-03-05T19:40:36.403612Z"
    }
   },
   "cell_type": "code",
   "source": "costate_eq_S.simplify()",
   "id": "a5909acada5837a9",
   "outputs": [
    {
     "data": {
      "text/plain": [
       "lambda_S(t)*r_r(t) + Derivative(lambda_S(t), t) - 1"
      ],
      "text/latex": "$\\displaystyle \\lambda_{S}{\\left(t \\right)} r_{r}{\\left(t \\right)} + \\frac{d}{d t} \\lambda_{S}{\\left(t \\right)} - 1$"
     },
     "execution_count": 89,
     "metadata": {},
     "output_type": "execute_result"
    }
   ],
   "execution_count": 89
  },
  {
   "metadata": {
    "ExecuteTime": {
     "end_time": "2025-03-05T19:40:36.667874Z",
     "start_time": "2025-03-05T19:40:36.604950Z"
    }
   },
   "cell_type": "code",
   "source": "costate_eq_C.simplify()",
   "id": "9adcc9cb0ed2b3d4",
   "outputs": [
    {
     "data": {
      "text/plain": [
       "N*mu*U(t)*i(t)*lambda_S(t)/C(t)**2 - mu*lambda_C(t) + Derivative(lambda_C(t), t)"
      ],
      "text/latex": "$\\displaystyle \\frac{N \\mu U{\\left(t \\right)} i{\\left(t \\right)} \\lambda_{S}{\\left(t \\right)}}{C^{2}{\\left(t \\right)}} - \\mu \\lambda_{C}{\\left(t \\right)} + \\frac{d}{d t} \\lambda_{C}{\\left(t \\right)}$"
     },
     "execution_count": 90,
     "metadata": {},
     "output_type": "execute_result"
    }
   ],
   "execution_count": 90
  },
  {
   "metadata": {
    "ExecuteTime": {
     "end_time": "2025-03-05T19:40:39.319375Z",
     "start_time": "2025-03-05T19:40:36.840387Z"
    }
   },
   "cell_type": "code",
   "source": [
    "ode = sp.Eq(lambda_S.diff(t), 1 - lambda_S * rr)\n",
    "\n",
    "# Solve the ODE\n",
    "solution = sp.dsolve(ode)\n",
    "\n",
    "# Display the solution\n",
    "solution"
   ],
   "id": "c5061ffafe8bc56b",
   "outputs": [
    {
     "data": {
      "text/plain": [
       "Eq((exp(Integral(r_r(t), t)) - Integral(r_r(t)*exp(Integral(r_r(t), t)), t))*lambda_S(t) + Integral((lambda_S(t)*r_r(t) - 1)*exp(Integral(r_r(t), t)), t), C1)"
      ],
      "text/latex": "$\\displaystyle \\left(e^{\\int r_{r}{\\left(t \\right)}\\, dt} - \\int r_{r}{\\left(t \\right)} e^{\\int r_{r}{\\left(t \\right)}\\, dt}\\, dt\\right) \\lambda_{S}{\\left(t \\right)} + \\int \\left(\\lambda_{S}{\\left(t \\right)} r_{r}{\\left(t \\right)} - 1\\right) e^{\\int r_{r}{\\left(t \\right)}\\, dt}\\, dt = C_{1}$"
     },
     "execution_count": 91,
     "metadata": {},
     "output_type": "execute_result"
    }
   ],
   "execution_count": 91
  },
  {
   "metadata": {
    "ExecuteTime": {
     "end_time": "2025-03-05T19:40:39.503785Z",
     "start_time": "2025-03-05T19:40:39.482444Z"
    }
   },
   "cell_type": "code",
   "source": [
    "# Extract the general solution\n",
    "lambda_S_solution = solution.rhs\n",
    "\n",
    "# Apply the boundary condition lambda_S(T) = 0\n",
    "boundary_condition = sp.Eq(lambda_S_solution.subs(t, T), 0)\n",
    "\n",
    "# Solve for the constant\n",
    "constant = sp.solve(boundary_condition)\n",
    "\n",
    "# Substitute the constant into the general solution\n",
    "final_solution = lambda_S_solution.subs(constant)\n",
    "final_solution\n"
   ],
   "id": "db27d866305d17d4",
   "outputs": [
    {
     "ename": "NameError",
     "evalue": "name 'T' is not defined",
     "output_type": "error",
     "traceback": [
      "\u001B[1;31m---------------------------------------------------------------------------\u001B[0m",
      "\u001B[1;31mNameError\u001B[0m                                 Traceback (most recent call last)",
      "Cell \u001B[1;32mIn[92], line 5\u001B[0m\n\u001B[0;32m      2\u001B[0m lambda_S_solution \u001B[38;5;241m=\u001B[39m solution\u001B[38;5;241m.\u001B[39mrhs\n\u001B[0;32m      4\u001B[0m \u001B[38;5;66;03m# Apply the boundary condition lambda_S(T) = 0\u001B[39;00m\n\u001B[1;32m----> 5\u001B[0m boundary_condition \u001B[38;5;241m=\u001B[39m sp\u001B[38;5;241m.\u001B[39mEq(lambda_S_solution\u001B[38;5;241m.\u001B[39msubs(t, \u001B[43mT\u001B[49m), \u001B[38;5;241m0\u001B[39m)\n\u001B[0;32m      7\u001B[0m \u001B[38;5;66;03m# Solve for the constant\u001B[39;00m\n\u001B[0;32m      8\u001B[0m constant \u001B[38;5;241m=\u001B[39m sp\u001B[38;5;241m.\u001B[39msolve(boundary_condition)\n",
      "\u001B[1;31mNameError\u001B[0m: name 'T' is not defined"
     ]
    }
   ],
   "execution_count": 92
  },
  {
   "metadata": {
    "ExecuteTime": {
     "end_time": "2025-03-05T19:40:39.506864400Z",
     "start_time": "2025-03-05T19:29:32.550466Z"
    }
   },
   "cell_type": "code",
   "source": [
    "for x in state_eqs:\n",
    "    print(sp.latex(x))"
   ],
   "id": "1107a10497d20ca",
   "outputs": [
    {
     "name": "stdout",
     "output_type": "stream",
     "text": [
      "k \\left(\\lambda + u{\\left(t \\right)}\\right) i{\\left(t \\right)} p{\\left(t \\right)} - \\mu i{\\left(t \\right)}\n",
      "k \\left(- \\lambda - u{\\left(t \\right)}\\right) i{\\left(t \\right)} p{\\left(t \\right)}\n",
      "- \\frac{M N^{2} k \\mu \\left(\\lambda + u{\\left(t \\right)}\\right) U{\\left(t \\right)} i^{2}{\\left(t \\right)} p{\\left(t \\right)}}{C{\\left(t \\right)}} + S{\\left(t \\right)} r_{r}{\\left(t \\right)}\n",
      "M k \\left(\\lambda + u{\\left(t \\right)}\\right) i{\\left(t \\right)} p{\\left(t \\right)} + \\left(- \\mu + r_{p}{\\left(t \\right)}\\right) U{\\left(t \\right)}\n",
      "k \\left(\\lambda + u{\\left(t \\right)}\\right) i{\\left(t \\right)} p{\\left(t \\right)} - \\mu C{\\left(t \\right)}\n"
     ]
    }
   ],
   "execution_count": 34
  }
 ],
 "metadata": {
  "kernelspec": {
   "display_name": "Python 3",
   "language": "python",
   "name": "python3"
  },
  "language_info": {
   "codemirror_mode": {
    "name": "ipython",
    "version": 2
   },
   "file_extension": ".py",
   "mimetype": "text/x-python",
   "name": "python",
   "nbconvert_exporter": "python",
   "pygments_lexer": "ipython2",
   "version": "2.7.6"
  }
 },
 "nbformat": 4,
 "nbformat_minor": 5
}
